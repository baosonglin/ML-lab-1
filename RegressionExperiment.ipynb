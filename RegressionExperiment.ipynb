{
 "cells": [
  {
   "cell_type": "code",
   "execution_count": 9,
   "metadata": {},
   "outputs": [
    {
     "name": "stdout",
     "output_type": "stream",
     "text": [
      "[-4.21320551 -2.27989647 -3.64070165 -2.01913963 -2.93504447  0.9824022\n",
      "  0.64606172 -4.63304395 -0.46101914 -2.898746    0.52743024  4.31217891\n",
      " -4.52020341] 4.12919326904\n"
     ]
    },
    {
     "data": {
      "image/png": "[encoded data removed]",
      "text/plain": [
       "<matplotlib.figure.Figure at 0x1ba9c9267f0>"
      ]
     },
     "metadata": {},
     "output_type": "display_data"
    }
   ],
   "source": [
    "import numpy as np\n",
    "import matplotlib.pyplot as plt\n",
    "from sklearn.datasets import load_svmlight_file\n",
    "from sklearn.model_selection import train_test_split\n",
    "\n",
    "x, y = load_svmlight_file(\"D:\\\\python\\\\GradientDescentExample-master\\\\train_dataset.txt\")\n",
    "x_train,x_test, y_train, y_test = train_test_split(x,  \n",
    "                                                   y,  \n",
    "                                                   test_size = 0.2,  \n",
    "                                                   random_state = 0)  \n",
    "alpha = 0.01   \n",
    "epoch = 100  \n",
    "w = np.random.randn(x_train.shape[1])\n",
    "b = np.random.randn()\n",
    "\n",
    "train_loss_list = []   \n",
    "test_loss_list = []    \n",
    "for i in range(epoch):\n",
    "    y_pred = x_train*w + b\n",
    "    train_loss = 0.5*np.mean(np.square(y_pred - y_train))  \n",
    "    \n",
    "    y_test_pred = x_test*w + b\n",
    "    test_loss = 0.5*np.mean(np.square(y_test_pred - y_test))    \n",
    "    \n",
    "    train_loss_list.append(train_loss)    \n",
    "    test_loss_list.append(test_loss)\n",
    "    \n",
    "    # update w and b\n",
    "    w = w - alpha*(y_pred - y_train)*x_train/x_train.shape[0]\n",
    "    b = b - alpha*np.mean(y_pred - y_train)\n",
    "print(w,b)\n",
    "plt.figure()\n",
    "plt.title('train and validation loss ')\n",
    "plt.plot(range(len(train_loss_list)), train_loss_list, color='r', label='train loss')\n",
    "\n",
    "plt.plot(range(len(test_loss_list)), test_loss_list, color='b', label='validation loss')\n",
    "plt.xlabel('iteration times')\n",
    "plt.ylabel('loss value')\n",
    "plt.legend()\n",
    "plt.show()"
   ]
  },
  {
   "cell_type": "code",
   "execution_count": null,
   "metadata": {},
   "outputs": [],
   "source": []
  },
  {
   "cell_type": "code",
   "execution_count": null,
   "metadata": {},
   "outputs": [],
   "source": []
  },
  {
   "cell_type": "code",
   "execution_count": null,
   "metadata": {
    "collapsed": true
   },
   "outputs": [],
   "source": []
  }
 ],
 "metadata": {
  "kernelspec": {
   "display_name": "Python 3",
   "language": "python",
   "name": "python3"
  },
  "language_info": {
   "codemirror_mode": {
    "name": "ipython",
    "version": 3
   },
   "file_extension": ".py",
   "mimetype": "text/x-python",
   "name": "python",
   "nbconvert_exporter": "python",
   "pygments_lexer": "ipython3",
   "version": "3.6.2"
  }
 },
 "nbformat": 4,
 "nbformat_minor": 2
}
