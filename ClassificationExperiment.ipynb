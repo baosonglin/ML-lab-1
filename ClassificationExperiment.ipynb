{
 "cells": [
  {
   "cell_type": "code",
   "execution_count": 4,
   "metadata": {},
   "outputs": [
    {
     "name": "stdout",
     "output_type": "stream",
     "text": [
      "[ 0.03830907 -0.13616394 -0.03070217  0.12356748  0.3145475   0.05275241\n",
      "  0.203288    1.10428736  0.07205143  0.2899311  -0.00376342  1.12668741\n",
      " -0.50525518  0.86262353] 0.606541878679\n"
     ]
    },
    {
     "data": {
      "image/png": "[encoded data removed]",
      "text/plain": [
       "<matplotlib.figure.Figure at 0x2858decc8d0>"
      ]
     },
     "metadata": {},
     "output_type": "display_data"
    }
   ],
   "source": [
    "%matplotlib inline\n",
    "import numpy as np\n",
    "from numpy import *  \n",
    "import matplotlib.pyplot as plt\n",
    "from sklearn.cross_validation import train_test_split  \n",
    "from sklearn.datasets import load_svmlight_file\n",
    "x, y = load_svmlight_file(\"C:\\\\Users\\\\baosonglin\\\\Desktop\\\\lab1-2.txt\")\n",
    "x_train,x_test, y_train, y_test = train_test_split(x,  \n",
    "                                                   y,  \n",
    "                                                   test_size = 0.2,  \n",
    "                                                   random_state = 0)  \n",
    "\n",
    "w = np.random.randn(x_train.shape[1])\n",
    "b = np.random.randn()\n",
    "epoch = 100 \n",
    "alpha=0.01\n",
    "p=0.1\n",
    "train_loss_list = []    \n",
    "test_loss_list = []    \n",
    "for i in range(epoch):\n",
    "    hinge = 1 - y_train*(x_train*w + b)\n",
    "    hinge[hinge < 0] = 0\n",
    "    train_loss = np.sum(hinge) + 0.5*p*np.linalg.norm(w)    \n",
    "    \n",
    "    hinge_temp = 1 - y_test*(x_test*w + b)\n",
    "    hinge_temp[hinge_temp < 0] = 0\n",
    "    test_loss = np.sum(hinge_temp) + 0.5*p*np.linalg.norm(w)    \n",
    "\n",
    "    train_loss_list.append(train_loss)    \n",
    "    test_loss_list.append(test_loss)\n",
    "        \n",
    "    # update w and b\n",
    "    # w_delta = alpha*y_train*x_train\n",
    "    for j in range(x_train.shape[0]):\n",
    "        if y_train[j]*(x_train[j]*w + b) < 1:\n",
    "            w = w + (alpha*y_train[j]*x_train[j]).toarray()[0]\n",
    "            b = b + alpha*y_train[j] \n",
    "\n",
    "print(w,b)\n",
    "plt.figure()\n",
    "plt.title('train and validation loss(svm)')\n",
    "plt.plot(range(len(train_loss_list)), train_loss_list, color='r', label='train loss')\n",
    "\n",
    "plt.plot(range(len(test_loss_list)), test_loss_list, color='b', label='validation loss')\n",
    "plt.xlabel('iteration times')\n",
    "plt.ylabel('loss')\n",
    "plt.legend()\n",
    "plt.show()"
   ]
  },
  {
   "cell_type": "code",
   "execution_count": null,
   "metadata": {
    "collapsed": true
   },
   "outputs": [],
   "source": []
  }
 ],
 "metadata": {
  "kernelspec": {
   "display_name": "Python 3",
   "language": "python",
   "name": "python3"
  },
  "language_info": {
   "codemirror_mode": {
    "name": "ipython",
    "version": 3
   },
   "file_extension": ".py",
   "mimetype": "text/x-python",
   "name": "python",
   "nbconvert_exporter": "python",
   "pygments_lexer": "ipython3",
   "version": "3.6.2"
  }
 },
 "nbformat": 4,
 "nbformat_minor": 2
}
